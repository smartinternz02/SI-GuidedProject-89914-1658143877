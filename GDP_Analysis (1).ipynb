{
 "cells": [
  {
   "cell_type": "code",
   "execution_count": 19,
   "metadata": {
    "id": "eQRk4rWtX5yO"
   },
   "outputs": [],
   "source": [
    "import numpy as np # linear algebra\n",
    "import pandas as pd # data processing\n",
    "import seaborn as sns\n",
    "from matplotlib import pyplot as plt\n",
    "\n",
    "from sklearn.preprocessing import LabelEncoder\n",
    "from sklearn.model_selection import train_test_split\n",
    "from sklearn.linear_model import LinearRegression\n",
    "from sklearn.tree import DecisionTreeRegressor\n",
    "from sklearn.ensemble import RandomForestRegressor\n",
    "from sklearn.metrics import mean_squared_error, mean_squared_log_error"
   ]
  },
  {
   "cell_type": "code",
   "execution_count": 20,
   "metadata": {
    "colab": {
     "base_uri": "https://localhost:8080/",
     "height": 883
    },
    "id": "TMyxr556X_F5",
    "outputId": "8162c06c-145f-4a1c-9f24-c0746582a03a"
   },
   "outputs": [
    {
     "ename": "NameError",
     "evalue": "name 'top_gdp_countries' is not defined",
     "output_type": "error",
     "traceback": [
      "\u001b[1;31m---------------------------------------------------------------------------\u001b[0m",
      "\u001b[1;31mNameError\u001b[0m                                 Traceback (most recent call last)",
      "Input \u001b[1;32mIn [20]\u001b[0m, in \u001b[0;36m<cell line: 1>\u001b[1;34m()\u001b[0m\n\u001b[1;32m----> 1\u001b[0m plot_data\u001b[38;5;241m=\u001b[39m\u001b[43mtop_gdp_countries\u001b[49m\u001b[38;5;241m.\u001b[39mhead(\u001b[38;5;241m10\u001b[39m)\n\u001b[0;32m      2\u001b[0m [[\u001b[38;5;124m'\u001b[39m\u001b[38;5;124mCountry\u001b[39m\u001b[38;5;124m'\u001b[39m,\u001b[38;5;124m'\u001b[39m\u001b[38;5;124mAgriculture\u001b[39m\u001b[38;5;124m'\u001b[39m,\u001b[38;5;124m'\u001b[39m\u001b[38;5;124mIndustry\u001b[39m\u001b[38;5;124m'\u001b[39m,\u001b[38;5;124m'\u001b[39m\u001b[38;5;124mService\u001b[39m\u001b[38;5;124m'\u001b[39m]]\n\u001b[0;32m      3\u001b[0m data \u001b[38;5;241m=\u001b[39m pd\u001b[38;5;241m.\u001b[39mread_csv(\u001b[38;5;124m'\u001b[39m\u001b[38;5;124mtop_gdp_countries.csv\u001b[39m\u001b[38;5;124m'\u001b[39m,decimal\u001b[38;5;241m=\u001b[39m\u001b[38;5;124m'\u001b[39m\u001b[38;5;124m,\u001b[39m\u001b[38;5;124m'\u001b[39m)\n",
      "\u001b[1;31mNameError\u001b[0m: name 'top_gdp_countries' is not defined"
     ]
    }
   ],
   "source": [
    "plot_data=top_gdp_countries.head(10)\n",
    "[['Country','Agriculture','Industry','Service']]\n",
    "data = pd.read_csv('top_gdp_countries.csv',decimal=',')\n",
    "print('number of missing data:')\n",
    "print(data.isnull().sum())\n",
    "data.describe(include='all')"
   ]
  },
  {
   "cell_type": "code",
   "execution_count": 14,
   "metadata": {},
   "outputs": [
    {
     "ename": "NameError",
     "evalue": "name 'data' is not defined",
     "output_type": "error",
     "traceback": [
      "\u001b[1;31m---------------------------------------------------------------------------\u001b[0m",
      "\u001b[1;31mNameError\u001b[0m                                 Traceback (most recent call last)",
      "Input \u001b[1;32mIn [14]\u001b[0m, in \u001b[0;36m<cell line: 1>\u001b[1;34m()\u001b[0m\n\u001b[1;32m----> 1\u001b[0m data\u001b[38;5;241m.\u001b[39mcolumns\u001b[38;5;241m=\u001b[39m\u001b[43mdata\u001b[49m\u001b[38;5;241m.\u001b[39mcolumns\u001b[38;5;241m.\u001b[39mstr\u001b[38;5;241m.\u001b[39mstrip()\n\u001b[0;32m      2\u001b[0m \u001b[38;5;28mprint\u001b[39m(data\u001b[38;5;241m.\u001b[39mcolumns\u001b[38;5;241m.\u001b[39mtolist())\n",
      "\u001b[1;31mNameError\u001b[0m: name 'data' is not defined"
     ]
    }
   ],
   "source": [
    "data.columns=data.columns.str.strip()\n",
    "print(data.columns.tolist())"
   ]
  },
  {
   "cell_type": "code",
   "execution_count": null,
   "metadata": {
    "scrolled": true
   },
   "outputs": [],
   "source": [
    "data.head()"
   ]
  },
  {
   "cell_type": "code",
   "execution_count": null,
   "metadata": {},
   "outputs": [],
   "source": [
    "data.info()"
   ]
  },
  {
   "cell_type": "code",
   "execution_count": null,
   "metadata": {
    "colab": {
     "base_uri": "https://localhost:8080/",
     "height": 425
    },
    "id": "UUB4wXIUYHKC",
    "outputId": "73cf6f1d-c931-4ab0-caa9-e42ca890ae8f"
   },
   "outputs": [],
   "source": [
    "data.groupby('Region')[['GDP ($ per capita)','Literacy (%)','Agriculture']].median()"
   ]
  },
  {
   "cell_type": "markdown",
   "metadata": {},
   "source": [
    "### Dealing With Missing Values"
   ]
  },
  {
   "cell_type": "code",
   "execution_count": null,
   "metadata": {
    "colab": {
     "base_uri": "https://localhost:8080/"
    },
    "id": "-0d7hk_MYWJv",
    "outputId": "2b7e36cb-d3d6-442b-e92b-088bb5480493"
   },
   "outputs": [],
   "source": [
    "for col in data.columns.values:\n",
    "    if data[col].isnull().sum() == 0:\n",
    "        continue\n",
    "    if col == 'Climate':\n",
    "        guess_values = data.groupby('Region')['Climate'].apply(lambda x: x.mode().max())\n",
    "    else:\n",
    "        guess_values = data.groupby('Region')[col].median()\n",
    "    for region in data['Region'].unique():\n",
    "        data[col].loc[(data[col].isnull())&(data['Region']==region)] = guess_values[region]"
   ]
  },
  {
   "cell_type": "code",
   "execution_count": null,
   "metadata": {
    "colab": {
     "base_uri": "https://localhost:8080/",
     "height": 415
    },
    "id": "itIAvzhjYYx1",
    "outputId": "64b8b023-a036-4057-e855-8bd4775d5aa2"
   },
   "outputs": [],
   "source": [
    "fig, ax = plt.subplots(figsize=(16,6))\n",
    "#ax = fig.add_subplot(111)\n",
    "top_gdp_countries = data.sort_values('GDP ($ per capita)',ascending=False).head(20)\n",
    "mean = pd.DataFrame({'Country':['World mean'], 'GDP ($ per capita)':[data['GDP ($ per capita)'].mean()]})\n",
    "gdps = pd.concat([top_gdp_countries[['Country','GDP ($ per capita)']],mean],ignore_index=True)\n",
    "\n",
    "sns.barplot(x='Country',y='GDP ($ per capita)',data=gdps, palette='Set3')\n",
    "ax.set_xlabel(ax.get_xlabel(),labelpad=15)\n",
    "ax.set_ylabel(ax.get_ylabel(),labelpad=30)\n",
    "ax.xaxis.label.set_fontsize(16)\n",
    "ax.yaxis.label.set_fontsize(16)\n",
    "plt.xticks(rotation=90)\n",
    "plt.show()"
   ]
  },
  {
   "cell_type": "code",
   "execution_count": null,
   "metadata": {
    "colab": {
     "base_uri": "https://localhost:8080/",
     "height": 728
    },
    "id": "X4k9JXdTYb9y",
    "outputId": "ea0f579c-ae88-4288-d6d8-180373b41b9e",
    "scrolled": true
   },
   "outputs": [],
   "source": [
    "plt.figure(figsize=(16,12))\n",
    "sns.heatmap(data=data.iloc[:,2:].corr(),annot=True,fmt='.2f',cmap='coolwarm')\n",
    "plt.show()"
   ]
  },
  {
   "cell_type": "markdown",
   "metadata": {},
   "source": [
    "**We can se some of the columns are highly positively correlated and some negatively corelated**"
   ]
  },
  {
   "cell_type": "code",
   "execution_count": null,
   "metadata": {},
   "outputs": [],
   "source": [
    "# Create correlation matrix\n",
    "corr_matrix = data.corr().abs()\n",
    "\n",
    "# Select upper triangle of correlation matrix\n",
    "upper = corr_matrix.where(np.triu(np.ones(corr_matrix.shape), k=1).astype(np.bool))\n",
    "\n",
    "# Find index of feature columns with correlation greater than 0.95\n",
    "to_drop = [column for column in upper.columns if any(upper[column] > 0.80)]\n",
    "# Drop features \n",
    "data.drop(data[to_drop], axis=1)"
   ]
  },
  {
   "cell_type": "code",
   "execution_count": null,
   "metadata": {},
   "outputs": [],
   "source": []
  },
  {
   "cell_type": "code",
   "execution_count": null,
   "metadata": {
    "colab": {
     "base_uri": "https://localhost:8080/",
     "height": 585
    },
    "id": "PTWsYDBaYfb1",
    "outputId": "87ee951f-2d38-4516-cdd7-45967c870dca"
   },
   "outputs": [],
   "source": [
    "fig, axes = plt.subplots(nrows=2, ncols=3, figsize=(20,12))\n",
    "plt.subplots_adjust(hspace=0.4)\n",
    "\n",
    "corr_to_gdp = pd.Series()\n",
    "for col in data.columns.values[2:]:\n",
    "    if ((col!='GDP ($ per capita)')&(col!='Climate')):\n",
    "        corr_to_gdp[col] = data['GDP ($ per capita)'].corr(data[col])\n",
    "abs_corr_to_gdp = corr_to_gdp.abs().sort_values(ascending=False)\n",
    "corr_to_gdp = corr_to_gdp.loc[abs_corr_to_gdp.index]\n",
    "\n",
    "for i in range(2):\n",
    "    for j in range(3):\n",
    "        sns.regplot(x=corr_to_gdp.index.values[i*3+j], y='GDP ($ per capita)', data=data,\n",
    "                   ax=axes[i,j], fit_reg=False, marker='.')\n",
    "        title = 'correlation='+str(corr_to_gdp[i*3+j])\n",
    "        axes[i,j].set_title(title)\n",
    "axes[1,2].set_xlim(0,102)\n",
    "plt.show()"
   ]
  },
  {
   "cell_type": "code",
   "execution_count": null,
   "metadata": {
    "colab": {
     "base_uri": "https://localhost:8080/",
     "height": 1000
    },
    "id": "cppLxADdYj66",
    "outputId": "074ebcf6-8c0b-4d4d-8a4f-9158a5eb9918"
   },
   "outputs": [],
   "source": [
    "data.loc[(data['Birthrate']<14)&(data['GDP ($ per capita)']<10000)]"
   ]
  },
  {
   "cell_type": "code",
   "execution_count": null,
   "metadata": {
    "colab": {
     "base_uri": "https://localhost:8080/"
    },
    "id": "ZS5gezwfq67J",
    "outputId": "8964e579-fe88-4478-b520-f2d1b73b386c"
   },
   "outputs": [],
   "source": [
    "data['Region'].unique()"
   ]
  },
  {
   "cell_type": "code",
   "execution_count": null,
   "metadata": {
    "colab": {
     "base_uri": "https://localhost:8080/"
    },
    "id": "Cz6tUpdurEfk",
    "outputId": "ccc90cc9-493b-4279-802b-6989c1a59ea3"
   },
   "outputs": [],
   "source": [
    "data['Climate'].unique()"
   ]
  },
  {
   "cell_type": "code",
   "execution_count": null,
   "metadata": {
    "colab": {
     "base_uri": "https://localhost:8080/"
    },
    "id": "_6QJLdxkYrWg",
    "outputId": "baf27bba-7f16-45e6-c2a5-5725a17e2242",
    "scrolled": true
   },
   "outputs": [],
   "source": [
    "LE = LabelEncoder()\n",
    "le = LabelEncoder()\n",
    "from sklearn.preprocessing import LabelEncoder\n",
    "#from collections import Counter as c\n",
    "#print(\"Region Before label Encoding :\",c(data['Region']))\n",
    "data['Region_label'] = LE.fit_transform(data['Region'])\n",
    "#print(\"Region After label Encoding :\",c(data['Region']))\n",
    "\n",
    "#print(\"Climate Before label Encoding :\",c(data['Climate']))\n",
    "data['Climate_label'] = le.fit_transform(data['Climate'])\n",
    "#print(\"Climate After label Encoding :\",c(data['Climate']))\n",
    "\n"
   ]
  },
  {
   "cell_type": "code",
   "execution_count": null,
   "metadata": {},
   "outputs": [],
   "source": [
    "print(\"Region\",data['Region_label'].unique())\n",
    "print(LE.inverse_transform(list(data['Region_label'].unique())))\n",
    "print()\n",
    "print(\"%%%%%%%%%%%%%%%%%%%%%%%%%%%%%%%%%%%%%%%%%%%%%%%%%%%%%%%%%%%%%%%%%%%%%%%%%%%%%%%%%%%%%%%%%%%%%%%%%%%%%%%%%%%%%%%%\")\n",
    "print()\n",
    "print(\"Climate:\",data['Climate_label'].unique())\n",
    "print(le.inverse_transform(list(data['Climate_label'].unique())))\n",
    "print()"
   ]
  },
  {
   "cell_type": "code",
   "execution_count": null,
   "metadata": {
    "colab": {
     "base_uri": "https://localhost:8080/"
    },
    "id": "a3LhMwm6tv58",
    "outputId": "1a5cb239-6717-4689-9396-cfcda3e72e77"
   },
   "outputs": [],
   "source": [
    "data['Region_label'].unique()"
   ]
  },
  {
   "cell_type": "code",
   "execution_count": null,
   "metadata": {},
   "outputs": [],
   "source": [
    "data['Climate'].unique()"
   ]
  },
  {
   "cell_type": "code",
   "execution_count": null,
   "metadata": {
    "colab": {
     "base_uri": "https://localhost:8080/"
    },
    "id": "xrABowuEtz95",
    "outputId": "135036f7-1ff2-4c60-fd8b-0f975106a3ae"
   },
   "outputs": [],
   "source": [
    "data['Climate_label'].unique()"
   ]
  },
  {
   "cell_type": "code",
   "execution_count": null,
   "metadata": {
    "colab": {
     "base_uri": "https://localhost:8080/",
     "height": 400
    },
    "id": "K4t-hzHuqZeb",
    "outputId": "a50ed812-0946-4cb6-daf6-8f78879b723e",
    "scrolled": true
   },
   "outputs": [],
   "source": [
    "data.head()"
   ]
  },
  {
   "cell_type": "code",
   "execution_count": null,
   "metadata": {
    "scrolled": true
   },
   "outputs": [],
   "source": [
    "data.Population.min(),data.Population.max()"
   ]
  },
  {
   "cell_type": "code",
   "execution_count": null,
   "metadata": {},
   "outputs": [],
   "source": [
    "data['Area (sq. mi.)'].min(),data['Area (sq. mi.)'].max()"
   ]
  },
  {
   "cell_type": "code",
   "execution_count": null,
   "metadata": {},
   "outputs": [],
   "source": [
    "data['Pop. Density (per sq. mi.)'].min(),data['Pop. Density (per sq. mi.)'].max()"
   ]
  },
  {
   "cell_type": "code",
   "execution_count": null,
   "metadata": {},
   "outputs": [],
   "source": [
    "data['Coastline (coast/area ratio)'].min(),data['Coastline (coast/area ratio)'].max()"
   ]
  },
  {
   "cell_type": "code",
   "execution_count": null,
   "metadata": {},
   "outputs": [],
   "source": [
    "data['Net migration'].min(),data['Net migration'].max()"
   ]
  },
  {
   "cell_type": "code",
   "execution_count": null,
   "metadata": {},
   "outputs": [],
   "source": [
    "data['Infant mortality (per 1000 births)'].min(),data['Infant mortality (per 1000 births)'].max()"
   ]
  },
  {
   "cell_type": "code",
   "execution_count": null,
   "metadata": {},
   "outputs": [],
   "source": [
    "data['Literacy (%)'].min(),data['Literacy (%)'].max()"
   ]
  },
  {
   "cell_type": "code",
   "execution_count": null,
   "metadata": {},
   "outputs": [],
   "source": [
    "data['Arable (%)'].min(),data['Arable (%)'].max()"
   ]
  },
  {
   "cell_type": "code",
   "execution_count": null,
   "metadata": {
    "scrolled": true
   },
   "outputs": [],
   "source": [
    "data['Crops (%)'].min(),data['Crops (%)'].max()"
   ]
  },
  {
   "cell_type": "code",
   "execution_count": null,
   "metadata": {},
   "outputs": [],
   "source": [
    "data.Deathrate.min(),data.Deathrate.max()"
   ]
  },
  {
   "cell_type": "code",
   "execution_count": null,
   "metadata": {},
   "outputs": [],
   "source": [
    "data.Agriculture.min(),data.Agriculture.max()"
   ]
  },
  {
   "cell_type": "code",
   "execution_count": null,
   "metadata": {},
   "outputs": [],
   "source": [
    "data.Industry.min(),data.Industry.max()"
   ]
  },
  {
   "cell_type": "code",
   "execution_count": null,
   "metadata": {
    "scrolled": true
   },
   "outputs": [],
   "source": [
    "data.Service.min(),data.Service.max()"
   ]
  },
  {
   "cell_type": "code",
   "execution_count": null,
   "metadata": {},
   "outputs": [],
   "source": [
    "data.info()"
   ]
  },
  {
   "cell_type": "code",
   "execution_count": null,
   "metadata": {},
   "outputs": [],
   "source": [
    "data.columns"
   ]
  },
  {
   "cell_type": "code",
   "execution_count": null,
   "metadata": {},
   "outputs": [],
   "source": [
    "data.columns=['Country', 'Region', 'Population', 'Area_sq_mi',\n",
    "       'Pop_Density_per_sq_mi', 'Coastline_coast_or_area_ratio',\n",
    "       'Net_migration', 'Infant_mortality_per_1000_births',\n",
    "       'GDP_per_capita', 'Literacy', 'Phones_per_1000', 'Arable',\n",
    "       'Crops', 'Other', 'Climate', 'Birthrate', 'Deathrate',\n",
    "       'Agriculture', 'Industry', 'Service', 'Region_label', 'Climate_label']"
   ]
  },
  {
   "cell_type": "code",
   "execution_count": null,
   "metadata": {},
   "outputs": [],
   "source": [
    "data.head(2)"
   ]
  },
  {
   "cell_type": "code",
   "execution_count": null,
   "metadata": {
    "id": "--Hnzk-TY04l"
   },
   "outputs": [],
   "source": [
    "#train, test = train_test_split(data, test_size=0.3, shuffle=True)\n",
    "#training_features = ['Population', 'Area (sq. mi.)',\n",
    "#       'Pop. Density (per sq. mi.)', 'Coastline (coast/area ratio)',\n",
    " #      'Net migration', 'Infant mortality (per 1000 births)',\n",
    "  #     'Literacy (%)', 'Phones (per 1000)',\n",
    "   #    'Arable (%)', 'Crops (%)', 'Other (%)', 'Birthrate',\n",
    "    #   'Deathrate', 'Agriculture', 'Industry', 'Service', 'Region_label',\n",
    "     #  'Climate_label']\n",
    "#target = 'GDP ($ per capita)'\n",
    "#train_X = train[training_features]\n",
    "#train_Y = train[target]\n",
    "#test_X = test[training_features]\n",
    "#test_Y = test[target]"
   ]
  },
  {
   "cell_type": "code",
   "execution_count": null,
   "metadata": {
    "scrolled": true
   },
   "outputs": [],
   "source": [
    "data.columns"
   ]
  },
  {
   "cell_type": "code",
   "execution_count": null,
   "metadata": {},
   "outputs": [],
   "source": [
    "train, test = train_test_split(data, test_size=0.3, shuffle=True)\n",
    "training_features = ['Population', 'Area_sq_mi',\n",
    "       'Pop_Density_per_sq_mi', 'Coastline_coast_or_area_ratio',\n",
    "       'Net_migration', 'Infant_mortality_per_1000_births',\n",
    "       'Literacy',\n",
    "       'Arable', 'Crops',\n",
    "       'Deathrate', 'Agriculture', 'Industry', 'Service', 'Region_label',   #, 'Other (%)' , 'Birthrate' , 'Phones (per 1000)'\n",
    "       'Climate_label']\n",
    "target = 'GDP_per_capita'\n",
    "train_X = train[training_features]\n",
    "train_Y = train[target]\n",
    "test_X = test[training_features]\n",
    "test_Y = test[target]"
   ]
  },
  {
   "cell_type": "code",
   "execution_count": null,
   "metadata": {
    "id": "PJqZlU9BsSsL"
   },
   "outputs": [],
   "source": [
    "train_X.info()"
   ]
  },
  {
   "cell_type": "code",
   "execution_count": null,
   "metadata": {
    "colab": {
     "base_uri": "https://localhost:8080/"
    },
    "id": "S7qhMTApZB2m",
    "outputId": "82fb2a9e-91a8-465f-a481-e858663842c1"
   },
   "outputs": [],
   "source": [
    "lr = LinearRegression()\n",
    "lr.fit(train_X, train_Y)\n",
    "train_pred_Y = lr.predict(train_X)\n",
    "test_pred_Y = lr.predict(test_X)\n",
    "train_pred_Y = pd.Series(train_pred_Y.clip(0, train_pred_Y.max()), index=train_Y.index)\n",
    "test_pred_Y = pd.Series(test_pred_Y.clip(0, test_pred_Y.max()), index=test_Y.index)\n",
    "\n",
    "rmse_train = np.sqrt(mean_squared_error(train_pred_Y, train_Y))\n",
    "msle_train = mean_squared_log_error(train_pred_Y, train_Y)\n",
    "rmse_test = np.sqrt(mean_squared_error(test_pred_Y, test_Y))\n",
    "msle_test = mean_squared_log_error(test_pred_Y, test_Y)\n",
    "\n",
    "print('rmse_train:',rmse_train,'msle_train:',msle_train)\n",
    "print('rmse_test:',rmse_test,'msle_test:',msle_test)"
   ]
  },
  {
   "cell_type": "code",
   "execution_count": null,
   "metadata": {
    "colab": {
     "base_uri": "https://localhost:8080/"
    },
    "id": "Nttd8cv_Zra1",
    "outputId": "17bf1465-7a09-46c8-dc0a-cc62e63a884d"
   },
   "outputs": [],
   "source": [
    "from sklearn.metrics import r2_score\n",
    "\n",
    "r2_score(test_Y,lr.predict(test_X))"
   ]
  },
  {
   "cell_type": "code",
   "execution_count": null,
   "metadata": {
    "colab": {
     "base_uri": "https://localhost:8080/"
    },
    "id": "9XkHbgjBt9Aj",
    "outputId": "5f4dbaa1-d138-4e8b-ae5e-73a42d9f0bdb"
   },
   "outputs": [],
   "source": [
    "lr.predict([[46710816,603700,77.4,0.46,-0.39,20.34,99.7,56.21,1.61,14.39,0.1870,0.452,0.361,2,4]])"
   ]
  },
  {
   "cell_type": "code",
   "execution_count": null,
   "metadata": {
    "colab": {
     "base_uri": "https://localhost:8080/"
    },
    "id": "A0ckiOuBZ_89",
    "outputId": "8d2384e4-6748-405c-a8af-19eeec8c1752"
   },
   "outputs": [],
   "source": [
    "rfr = RandomForestRegressor(n_estimators = 50,\n",
    "                             max_depth = 6,\n",
    "                             min_weight_fraction_leaf = 0.05,\n",
    "                             max_features = 0.8,\n",
    "                             random_state = 42)\n",
    "rfr.fit(train_X, train_Y)\n",
    "train_pred_Y = rfr.predict(train_X)\n",
    "test_pred_Y = rfr.predict(test_X)\n",
    "train_pred_Y = pd.Series(train_pred_Y.clip(0, train_pred_Y.max()), index=train_Y.index)\n",
    "test_pred_Y = pd.Series(test_pred_Y.clip(0, test_pred_Y.max()), index=test_Y.index)\n",
    "\n",
    "rmse_train = np.sqrt(mean_squared_error(train_pred_Y, train_Y))\n",
    "msle_train = mean_squared_log_error(train_pred_Y, train_Y)\n",
    "rmse_test = np.sqrt(mean_squared_error(test_pred_Y, test_Y))\n",
    "msle_test = mean_squared_log_error(test_pred_Y, test_Y)\n",
    "\n",
    "print('rmse_train:',rmse_train,'msle_train:',msle_train)\n",
    "print('rmse_test:',rmse_test,'msle_test:',msle_test)"
   ]
  },
  {
   "cell_type": "code",
   "execution_count": null,
   "metadata": {
    "colab": {
     "base_uri": "https://localhost:8080/"
    },
    "id": "-FkT3AsBaKLM",
    "outputId": "ec404519-5556-431e-9df8-203900574612"
   },
   "outputs": [],
   "source": [
    "r2_score(test_Y,rfr.predict(test_X))"
   ]
  },
  {
   "cell_type": "code",
   "execution_count": null,
   "metadata": {
    "colab": {
     "base_uri": "https://localhost:8080/"
    },
    "id": "Xcyf9cXmuGoY",
    "outputId": "d22f2ae0-c2d5-4357-c035-42906eb88d9b"
   },
   "outputs": [],
   "source": [
    "rfr.predict([[46710816,603700,77.4,0.46,-0.39,20.34,99.7,56.21,1.61,14.39,0.1870,0.452,0.361,2,4]])"
   ]
  },
  {
   "cell_type": "code",
   "execution_count": null,
   "metadata": {
    "id": "7NyJ_wQ7EUHk"
   },
   "outputs": [],
   "source": [
    "import pickle\n",
    "pickle.dump(rfr,open('gdp.pkl','wb'))"
   ]
  },
  {
   "cell_type": "code",
   "execution_count": null,
   "metadata": {},
   "outputs": [],
   "source": [
    "train_X.info()"
   ]
  },
  {
   "cell_type": "code",
   "execution_count": null,
   "metadata": {
    "colab": {
     "base_uri": "https://localhost:8080/",
     "height": 772
    },
    "id": "asO7yS9VaPny",
    "outputId": "09497472-a3cb-4660-fb30-8bfe9052719d"
   },
   "outputs": [],
   "source": [
    "plt.figure(figsize=(18,12))\n",
    "\n",
    "train_test_Y = train_Y.append(test_Y)\n",
    "train_test_pred_Y = train_pred_Y.append(test_pred_Y)\n",
    "\n",
    "data_shuffled = data.loc[train_test_Y.index]\n",
    "label = data_shuffled['Country']\n",
    "\n",
    "colors = {'ASIA (EX. NEAR EAST)         ':'red',\n",
    "          'EASTERN EUROPE                     ':'orange',\n",
    "          'NORTHERN AFRICA                    ':'gold',\n",
    "          'OCEANIA                            ':'green',\n",
    "          'WESTERN EUROPE                     ':'blue',\n",
    "          'SUB-SAHARAN AFRICA                 ':'purple',\n",
    "          'LATIN AMER. & CARIB    ':'olive',\n",
    "          'C.W. OF IND. STATES ':'cyan',\n",
    "          'NEAR EAST                          ':'hotpink',\n",
    "          'NORTHERN AMERICA                   ':'lightseagreen',\n",
    "          'BALTICS                            ':'rosybrown'}\n",
    "\n",
    "for region, color in colors.items():\n",
    "    X = train_test_Y.loc[data_shuffled['Region']==region]\n",
    "    Y = train_test_pred_Y.loc[data_shuffled['Region']==region]\n",
    "    ax = sns.regplot(x=X, y=Y, marker='.', fit_reg=False, color=color, scatter_kws={'s':200, 'linewidths':0}, label=region) \n",
    "plt.legend(loc=4,prop={'size': 12})  \n",
    "\n",
    "ax.set_xlabel('GDP_per_capita ground truth',labelpad=40)\n",
    "ax.set_ylabel('GDP_per_capita predicted',labelpad=40)\n",
    "ax.xaxis.label.set_fontsize(24)\n",
    "ax.yaxis.label.set_fontsize(24)\n",
    "ax.tick_params(labelsize=12)\n",
    "\n",
    "x = np.linspace(-1000,50000,100) # 100 linearly spaced numbers\n",
    "y = x\n",
    "plt.plot(x,y,c='gray')\n",
    "\n",
    "plt.xlim(-1000,60000)\n",
    "plt.ylim(-1000,40000)\n",
    "\n",
    "for i in range(0,train_test_Y.shape[0]):\n",
    "    if((data_shuffled['Area_sq_mi'].iloc[i]>8e5) |\n",
    "       (data_shuffled['Population'].iloc[i]>1e8) |\n",
    "       (data_shuffled['GDP_per_capita'].iloc[i]>10000)):\n",
    "        plt.text(train_test_Y.iloc[i]+200, train_test_pred_Y.iloc[i]-200, label.iloc[i], size='small')"
   ]
  },
  {
   "cell_type": "code",
   "execution_count": null,
   "metadata": {
    "colab": {
     "base_uri": "https://localhost:8080/",
     "height": 453
    },
    "id": "SKUdMuzWaTAY",
    "outputId": "5ee4f681-00dc-40da-a97c-a43d2050ba31"
   },
   "outputs": [],
   "source": [
    "data['Total_GDP ($)'] = data['GDP_per_capita'] * data['Population']\n",
    "#plt.figure(figsize=(16,6))\n",
    "top_gdp_countries = data.sort_values('Total_GDP ($)',ascending=False).head(10)\n",
    "other = pd.DataFrame({'Country':['Other'], 'Total_GDP ($)':[data['Total_GDP ($)'].sum() - top_gdp_countries['Total_GDP ($)'].sum()]})\n",
    "gdps = pd.concat([top_gdp_countries[['Country','Total_GDP ($)']],other],ignore_index=True)\n",
    "\n",
    "fig, axes = plt.subplots(nrows=1, ncols=2, figsize=(20,7),gridspec_kw = {'width_ratios':[2,1]})\n",
    "sns.barplot(x='Country',y='Total_GDP ($)',data=gdps,ax=axes[0],palette='Set3')\n",
    "axes[0].set_xlabel('Country',labelpad=30,fontsize=16)\n",
    "axes[0].set_ylabel('Total_GDP',labelpad=30,fontsize=16)\n",
    "\n",
    "colors = sns.color_palette(\"Set3\", gdps.shape[0]).as_hex()\n",
    "axes[1].pie(gdps['Total_GDP ($)'], labels=gdps['Country'],colors=colors,autopct='%1.1f%%',shadow=True)\n",
    "axes[1].axis('equal')\n",
    "plt.show()"
   ]
  },
  {
   "cell_type": "code",
   "execution_count": null,
   "metadata": {
    "colab": {
     "base_uri": "https://localhost:8080/"
    },
    "id": "xdmkeTpFaapp",
    "outputId": "683a5777-cae0-4ba3-b88a-0901f8a36b32"
   },
   "outputs": [],
   "source": [
    "Rank1 = data[['Country','Total_GDP ($)']].sort_values('Total_GDP ($)', ascending=False).reset_index()\n",
    "Rank2 = data[['Country','GDP_per_capita']].sort_values('GDP_per_capita', ascending=False).reset_index()\n",
    "Rank1 = pd.Series(Rank1.index.values+1, index=Rank1.Country)\n",
    "Rank2 = pd.Series(Rank2.index.values+1, index=Rank2.Country)\n",
    "Rank_change = (Rank2-Rank1).sort_values(ascending=False)\n",
    "print('rank of total GDP - rank of GDP per capita:')\n",
    "Rank_change.loc[top_gdp_countries.Country]"
   ]
  },
  {
   "cell_type": "code",
   "execution_count": null,
   "metadata": {
    "colab": {
     "base_uri": "https://localhost:8080/"
    },
    "id": "DKGiD3qZafZn",
    "outputId": "5be80b81-6eef-4973-e9a1-5fcd7ce09bd4"
   },
   "outputs": [],
   "source": [
    "corr_to_gdp = pd.Series()\n",
    "for col in data.columns.values[2:]:\n",
    "    if ((col!='Total_GDP ($)')&(col!='Climate')&(col!='GDP_per_capita')):\n",
    "        corr_to_gdp[col] = data['Total_GDP ($)'].corr(data[col])\n",
    "abs_corr_to_gdp = corr_to_gdp.abs().sort_values(ascending=False)\n",
    "corr_to_gdp = corr_to_gdp.loc[abs_corr_to_gdp.index]\n",
    "print(corr_to_gdp)"
   ]
  },
  {
   "cell_type": "code",
   "execution_count": null,
   "metadata": {
    "colab": {
     "base_uri": "https://localhost:8080/",
     "height": 461
    },
    "id": "kDpjXcxHatY5",
    "outputId": "c1b95366-3dbb-49cc-9db4-25fefeefbbaf"
   },
   "outputs": [],
   "source": [
    "plot_data = top_gdp_countries.head(10)[['Country','Agriculture', 'Industry', 'Service']]\n",
    "plot_data = plot_data.set_index('Country')\n",
    "ax = plot_data.plot.bar(stacked=True,figsize=(10,6))\n",
    "ax.legend(bbox_to_anchor=(1, 1))\n",
    "plt.show()"
   ]
  },
  {
   "cell_type": "code",
   "execution_count": null,
   "metadata": {
    "colab": {
     "base_uri": "https://localhost:8080/",
     "height": 461
    },
    "id": "5eCCLJR7awk-",
    "outputId": "d3e48f66-5822-404c-cadf-11953bcb96d2"
   },
   "outputs": [],
   "source": [
    "plot_data=top_gdp_countries.head(10)\n",
    "[['Country','Agriculture','Industry','Service']]\n",
    "ax = plot_data.plot.bar(stacked=True,figsize=(10,6))\n",
    "ax.legend(bbox_to_anchor=(1, 1))\n",
    "plt.show()"
   ]
  },
  {
   "cell_type": "code",
   "execution_count": null,
   "metadata": {},
   "outputs": [],
   "source": []
  }
 ],
 "metadata": {
  "colab": {
   "name": "GDP Analysis.ipynb",
   "provenance": []
  },
  "kernelspec": {
   "display_name": "Python 3 (ipykernel)",
   "language": "python",
   "name": "python3"
  },
  "language_info": {
   "codemirror_mode": {
    "name": "ipython",
    "version": 3
   },
   "file_extension": ".py",
   "mimetype": "text/x-python",
   "name": "python",
   "nbconvert_exporter": "python",
   "pygments_lexer": "ipython3",
   "version": "3.9.12"
  }
 },
 "nbformat": 4,
 "nbformat_minor": 1
}
